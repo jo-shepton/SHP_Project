{
 "cells": [
  {
   "cell_type": "code",
   "execution_count": null,
   "metadata": {},
   "outputs": [],
   "source": [
    "import re\n",
    "import numpy as np \n",
    "zbest = []\n",
    "chibest = []\n",
    "chisec=[]\n",
    "index = []\n",
    "testlst = []\n",
    "zlow=[]\n",
    "zhigh=[]\n",
    "zindex=[]\n",
    "chidiff=[]\n",
    "#reading in file straight from lephare \n",
    "with open('Lephare/lephare/test/zphot_f200w_select.out') as f:\n",
    "    for _ in range(55):\n",
    "        next(f)\n",
    "    for line in f:\n",
    "        test = re.sub(\"\\s+\", \",\", line.strip())\n",
    "        tokens = test.split(',')\n",
    "        zbest.append(float(tokens[1]))\n",
    "        chibest.append(float(tokens[5]))\n",
    "        chisec.append(float(tokens[14]))\n",
    "        index.append(tokens[0])\n",
    "        zlow.append(tokens[2])\n",
    "        zhigh.append(tokens[3])\n",
    "\n",
    "f.close()\n",
    "#making file with all redshifts, chi2 and chidiff for that detection image\n",
    "file = open('lephare_det277w_cat_redshifts_all' , 'a')\n",
    "for i in range(len(chibest)):\n",
    "    chidiff.append(float(chisec[i])-float(chibest[i]))\n",
    "\n",
    "    file.write(str(index[i])+','+str(zbest[i])+','+str(chibest[i])+','+str(chidiff[i])+'\\n')\n",
    "file.close()"
   ]
  },
  {
   "cell_type": "code",
   "execution_count": null,
   "metadata": {},
   "outputs": [],
   "source": [
    "#make a catalogue for selected sources based on criteria i.e min redshift, max chi2, min chidiff\n",
    "file = open('lephare_det277w_cat_redshifts' , 'a')\n",
    "file.write('index, best z, best chi '+'\\n')\n",
    "for i in range(len(chibest)):\n",
    "    if float(zbest[i])>=8.5:\n",
    "        if float(chibest[i])<=25:\n",
    "            if float(chisec[i])-float(chibest[i])>4:\n",
    "                zindex.append(index[i])\n",
    "              \n",
    "\n",
    "                file.write(str(index[i])+','+str(zbest[i])+','+str(chibest[i])+'\\n')\n",
    "file.close()"
   ]
  },
  {
   "cell_type": "code",
   "execution_count": null,
   "metadata": {},
   "outputs": [],
   "source": [
    "file = open('det_200w_master','r')\n",
    "#need to look in master catalogue to get x,y,ra,dec\n",
    "indexmaster = []\n",
    "x=[]\n",
    "y=[]\n",
    "ra=[]\n",
    "dec=[]\n",
    "for _ in range(1):\n",
    "    next(file)\n",
    "for line in file:\n",
    "    clean = re.sub(\"\\s+\", \",\", line.strip())\n",
    "    tokens = clean.split(',')\n",
    "    indexmaster.append(tokens[0])\n",
    "    x.append(tokens[1])\n",
    "    y.append(tokens[2])\n",
    "    ra.append(tokens[3])\n",
    "    dec.append(tokens[4])\n",
    "file.close()\n",
    "index_lephare= []\n",
    "\n",
    "file=open('lephare_det200w_cat_redshifts','r')\n",
    "z_lephare=[]\n",
    "chi_lephare=[]\n",
    "for _ in range(1):\n",
    "    next(file)\n",
    "for line in file:\n",
    "    clean = re.sub(\"\\s+\", \",\", line.strip())\n",
    "    tokens = clean.split(',')\n",
    "    index_lephare.append(tokens[0])\n",
    "    z_lephare.append(tokens[1])\n",
    "    chi_lephare.append(tokens[2])\n",
    "file.close()"
   ]
  },
  {
   "cell_type": "code",
   "execution_count": null,
   "metadata": {},
   "outputs": [],
   "source": [
    "crossindex = []\n",
    "newx = []\n",
    "newy=[]\n",
    "newra=[]\n",
    "newdec=[]\n",
    "for i in range(len(index_lephare)):\n",
    "    for j in range(len(indexmaster)): # check if indexes of lephare selected candidates and master match\n",
    "        if index_lephare[i] == indexmaster[j]:\n",
    "            newx.append(x[j]) #find x,y,ra,dec for that index\n",
    "            newy.append(y[j])\n",
    "            newra.append(ra[j])\n",
    "            newdec.append(dec[j])\n",
    "            crossindex.append(indexmaster[j])\n"
   ]
  },
  {
   "cell_type": "code",
   "execution_count": null,
   "metadata": {},
   "outputs": [],
   "source": [
    "#write to file new postional information for lephare selected candidates\n",
    "#using this for postage stamp making\n",
    "file = open('dual_image_catalogues/lephare_master_selection_det200w_REAL','w')\n",
    "for i in range(len(crossindex)):\n",
    "    file.write(crossindex[i]+','+newra[i]+','+newdec[i]+','+newx[i]+','+newy[i]+'\\n')\n",
    "file.close()\n",
    " "
   ]
  }
 ],
 "metadata": {
  "kernelspec": {
   "display_name": "Python 3 (ipykernel)",
   "language": "python",
   "name": "python3"
  },
  "language_info": {
   "codemirror_mode": {
    "name": "ipython",
    "version": 3
   },
   "file_extension": ".py",
   "mimetype": "text/x-python",
   "name": "python",
   "nbconvert_exporter": "python",
   "pygments_lexer": "ipython3",
   "version": "3.9.12"
  }
 },
 "nbformat": 4,
 "nbformat_minor": 4
}
