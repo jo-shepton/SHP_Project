{
 "cells": [
  {
   "cell_type": "code",
   "execution_count": null,
   "metadata": {},
   "outputs": [],
   "source": [
    "import matplotlib.pyplot as plt\n",
    "import numpy as np\n",
    "import re\n",
    "from os import listdir\n",
    "from os.path import isfile, join"
   ]
  },
  {
   "cell_type": "code",
   "execution_count": null,
   "metadata": {
    "scrolled": true
   },
   "outputs": [],
   "source": [
    "primary_files = [f for f in listdir('Lephare/lephare/test/PRIMARY_SOLS_DET277W/') if isfile(join('Lephare/lephare/test/PRIMARY_SOLS_DET277W/', f))]\n",
    "#making list of file index \n",
    "for i in range(len(primary_files)):\n",
    "    print(join(primary_files[i][6]+primary_files[i][7]+primary_files[i][8]+primary_files[i][9]+primary_files[i][10]))"
   ]
  },
  {
   "cell_type": "code",
   "execution_count": null,
   "metadata": {},
   "outputs": [],
   "source": [
    "index = '19171' #manually change index as parameters need to be adjusted for each SED produced, so did not automate \n",
    "                #always has to be 5 digits - 2077->02077"
   ]
  },
  {
   "cell_type": "code",
   "execution_count": null,
   "metadata": {},
   "outputs": [],
   "source": [
    "#looking for the primary, high redshift solution file\n",
    "high = open('Lephare/lephare/test/PRIMARY_SOLS_DET277W/Id0000'+ str(index)+'.spec', 'r')\n",
    "wavelength =[]\n",
    "mag=[]\n",
    "for _ in range(421): #skips the first 420 lines\n",
    "    next(high)\n",
    "for line in high:\n",
    "    tok = line.split('  ')\n",
    "    wavelength.append(float(tok[0]))\n",
    "    mag.append(float(tok[1]))\n",
    "high.close()\n"
   ]
  },
  {
   "cell_type": "code",
   "execution_count": null,
   "metadata": {},
   "outputs": [],
   "source": [
    "#looking for the secondary, low redshift solution file - done separately to high redshift due to problem using lephare\n",
    "low= open('Lephare/lephare/test/Id0000'+ str(index)+'.spec', 'r')\n",
    "wavelength_low=[]\n",
    "mag_low=[]\n",
    "\n",
    "for _ in range(421):\n",
    "    next(low)\n",
    "for line in low:\n",
    "    tok = line.split('  ')\n",
    "    wavelength_low.append(float(tok[0]))\n",
    "    mag_low.append(float(tok[1]))\n",
    "\n",
    "low.close()\n",
    "\n",
    "#get low redshift value from file\n",
    "low= open('Lephare/lephare/test/Id0000'+ str(index)+'.spec', 'r')\n",
    "content =low.readlines()    \n",
    "for line in content[1]:\n",
    "    test = re.sub(\"\\s+\", \",\", content[1].strip())\n",
    "    tokens = test.split(',')\n",
    "zlow = np.round(float(tokens[2]),2)\n",
    "low.close()\n",
    "print(zlow)"
   ]
  },
  {
   "cell_type": "code",
   "execution_count": null,
   "metadata": {
    "scrolled": false
   },
   "outputs": [],
   "source": [
    "#get data points for each filter from primary solution file (as this is deemed to be best fit by lephare)\n",
    "\n",
    "file = open('Lephare/lephare/test/PRIMARY_SOLS_DET277W/Id0000'+ str(index)+'.spec', 'r')\n",
    "file_data = open('sed_plots/data_files/index'+str(index)+'_data_sed','w')\n",
    "content =file.readlines()\n",
    "for i in range(13,20):\n",
    "    file_data.write(content[i])\n",
    "file.close()\n",
    "file_data.close()\n",
    "\n",
    "\n",
    "\n",
    "#get high redshift value from file\n",
    "for line in content[1]:\n",
    "    test = re.sub(\"\\s+\", \",\", content[1].strip())\n",
    "    tokens = test.split(',')\n",
    "zhigh = np.round(float(tokens[2]),2)\n",
    "    \n",
    "print(zhigh)"
   ]
  },
  {
   "cell_type": "code",
   "execution_count": null,
   "metadata": {},
   "outputs": [],
   "source": [
    "file_data = open('sed_plots/data_files/index'+str(index)+'_data_sed','r')\n",
    "wave_data=[]\n",
    "mag_data=[]\n",
    "mag_err=[]\n",
    "wave_width=[]\n",
    "for line in file_data:\n",
    "    test = re.sub(\"\\s+\", \",\", line.strip())\n",
    "    tokens = test.split(',')\n",
    "    wave_data.append(float(tokens[2]))\n",
    "    mag_data.append(float(tokens[0]))\n",
    "    mag_err.append(float(tokens[1]))\n",
    "    wave_width.append(float(tokens[3])/2) #divide by two as wavelength width is not error both directions\n",
    "#use fake mag to adjust positons of datapoints in filters f090w and f115w - often very faint so need to be increased to see\n",
    "#on same scale as rest of graph\n",
    "fake_mag = [mag_data[0]-1,mag_data[1]-1]\n"
   ]
  },
  {
   "cell_type": "code",
   "execution_count": null,
   "metadata": {
    "scrolled": false
   },
   "outputs": [],
   "source": [
    "#plotting the SED\n",
    "\n",
    "plt.plot(wavelength, mag, color = 'darkmagenta',label = 'z='+str(zhigh) ) #high z template\n",
    "plt.plot(wavelength_low, mag_low,color='sandybrown',  label ='z='+str(zlow)) #low z template\n",
    "\n",
    "#plots from F150W to F444W as points with error bars\n",
    "plt.errorbar(wave_data[2:7],mag_data[2:7],yerr = mag_err[2:7], xerr = wave_width[2:7],capsize = 2,fmt='o' ,color='k',zorder=6)\n",
    "\n",
    "#plots points as lines for F090W and F115W. zorder brings these to front i.e infront of template lines\n",
    "plt.errorbar(wave_data[0],fake_mag[0], xerr = wave_width[0],capsize = 2,fmt='-' ,color='k',zorder=6)\n",
    "plt.errorbar(wave_data[1],fake_mag[1], xerr = wave_width[1],capsize = 2,fmt='-' ,color='k',zorder=6)\n",
    "\n",
    "\n",
    "#makes arrow point downward to indicate these points are fainter than the rest of the points\n",
    "plt.arrow(wave_data[0],fake_mag[0], dx = 0,dy=0.2,length_includes_head=True,\n",
    "  head_width=1000, head_length=0.05,color='k',zorder=6)\n",
    "plt.arrow(wave_data[1],fake_mag[1], dx = 0,dy=0.2,length_includes_head=True,\n",
    "       head_width=1000, head_length=0.05,color='k',zorder=6)\n",
    "\n",
    "plt.gca().invert_yaxis()\n",
    "\n",
    "plt.ylim(32,27) #axis limits adapted from Castellano 2022\n",
    "plt.xlim(0,5e4)\n",
    "plt.legend()\n",
    "plt.title('Candidate '+str(index))\n",
    "plt.xlabel('Wavelength ($\\AA$)')\n",
    "plt.ylabel('Magnitudes')\n",
    "plt.savefig('sed_plots/det277w/Candidate_'+str(index)+'.png')"
   ]
  },
  {
   "cell_type": "code",
   "execution_count": null,
   "metadata": {},
   "outputs": [],
   "source": [
    "#PLOTTING CHI SQ FROM LEPHARE OUTPUT\n",
    "k= np.linspace(0,20,401)  #redshift steps\n",
    "chiindex='19171'\n",
    "chifile = open('Lephare/lephare/test/Id0000'+ str(chiindex)+'.chi', 'r') #lephare output\n",
    "\n",
    "z =[]\n",
    "chi=[]\n",
    "chimin =[]\n",
    "for _ in range(1):\n",
    "    next(chifile)\n",
    "for line in chifile:\n",
    "    tok = line.split('  ')\n",
    "    z.append(float(tok[0]))\n",
    "    chi.append(float(tok[11]))\n",
    "\n",
    "chifile.close()\n",
    "\n",
    "file=open('sed_plots/chi_min'+str(chiindex),'a')\n",
    "for i in range(len(z)):\n",
    "    for j in range(len(k)):\n",
    "        chi_sort=[]\n",
    "        if k[j]<z[i]<k[j+1]: # for every redshift value in redshift bin of 0.05\n",
    "            \n",
    "            chi_sort.append(chi[i]) #takes every chi sq value and finds the minimum\n",
    "            chimin = np.min(chi_sort)\n",
    "            file.write(str(chimin)+','+str(z[i])+'\\n') #read out to file to be plotted\n",
    "file.close()\n",
    "        \n"
   ]
  },
  {
   "cell_type": "code",
   "execution_count": null,
   "metadata": {},
   "outputs": [],
   "source": [
    "file=open('sed_plots/chi_min_test_files/18534_chi_min.txt','r')\n",
    "chi_file=[]\n",
    "z_file=[]\n",
    "for line in file:\n",
    "    tok = line.split(',')\n",
    "    chi_file.append(float(tok[0]))\n",
    "    z_file.append(float(tok[1]))\n",
    "file.close()"
   ]
  },
  {
   "cell_type": "code",
   "execution_count": null,
   "metadata": {},
   "outputs": [],
   "source": [
    "plt.plot(z_file,chi_file,linewidth =2.5, color = 'k')\n",
    "plt.ylim(0,25)    #want chi sq to be less than 25 for good candidates, this helps see the minimum clearly \n",
    "plt.ylabel('$\\u03C7^2$',fontsize=18)\n",
    "plt.xlabel('z',fontsize=18)\n",
    "plt.title('Candidate '+str(chiindex))\n",
    "plt.savefig('sed_plots/chi_sq_plots/chi_sq_'+str(chiindex)+'.png')"
   ]
  },
  {
   "cell_type": "code",
   "execution_count": null,
   "metadata": {},
   "outputs": [],
   "source": []
  },
  {
   "cell_type": "code",
   "execution_count": null,
   "metadata": {},
   "outputs": [],
   "source": []
  }
 ],
 "metadata": {
  "kernelspec": {
   "display_name": "Python 3 (ipykernel)",
   "language": "python",
   "name": "python3"
  },
  "language_info": {
   "codemirror_mode": {
    "name": "ipython",
    "version": 3
   },
   "file_extension": ".py",
   "mimetype": "text/x-python",
   "name": "python",
   "nbconvert_exporter": "python",
   "pygments_lexer": "ipython3",
   "version": "3.9.12"
  }
 },
 "nbformat": 4,
 "nbformat_minor": 4
}
