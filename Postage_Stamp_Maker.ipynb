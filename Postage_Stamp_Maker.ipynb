{
 "cells": [
  {
   "cell_type": "code",
   "execution_count": null,
   "metadata": {},
   "outputs": [],
   "source": [
    "#CODE MADE FOR BOTH LEPHARE SELECTED CANDIDATES AND COLOUR SELECTION SO FILES MIGHT HAVE DIFFERENT FORMATS\n",
    "import astropy \n",
    "from astropy.io import fits\n",
    "import matplotlib.pyplot as plt\n",
    "from astropy.utils.data import get_pkg_data_filename\n",
    "from astropy.visualization import astropy_mpl_style\n",
    "import os\n",
    "import ccdproc as ccdp\n",
    "from astropy.nddata import CCDData\n",
    "from pathlib import Path\n",
    "from os.path import isfile, join\n"
   ]
  },
  {
   "cell_type": "code",
   "execution_count": null,
   "metadata": {},
   "outputs": [],
   "source": [
    "from matplotlib.colors import Normalize\n",
    "import numpy as np\n",
    "import re"
   ]
  },
  {
   "cell_type": "code",
   "execution_count": null,
   "metadata": {},
   "outputs": [],
   "source": [
    "file = open('dual_image_catalogues/SED_SELECTED_DET277W','r')\n",
    "\n",
    "x = []\n",
    "y = []\n",
    "xmin = []\n",
    "xmax=[]\n",
    "ymin=[]\n",
    "ymax=[]\n",
    "index = []\n",
    "lines = []\n",
    "\n",
    "#for _ in range(1): \n",
    "  #  next(file)\n",
    "for line in file: \n",
    "    tokens = line.split(',')\n",
    "    index.append(tokens[0])\n",
    "    x.append(float(tokens[1]))\n",
    "    y.append(float(tokens[2]))\n",
    "file.close()\n",
    "\n",
    "for i in range(len(index)):\n",
    "    xmin.append(x[i]-50)\n",
    "    xmax.append(x[i]+50)\n",
    "    ymin.append(y[i]-50)\n",
    "    ymax.append(y[i]+50)\n"
   ]
  },
  {
   "cell_type": "code",
   "execution_count": null,
   "metadata": {},
   "outputs": [],
   "source": [
    "#making directory path to place files so they are organised in folders with index\n",
    "for i in range(len(xmax)):\n",
    "    os.makedirs(os.path.join('galaxy_samples/detf277w_SED_selection/' + str(index[i])))"
   ]
  },
  {
   "cell_type": "code",
   "execution_count": null,
   "metadata": {},
   "outputs": [],
   "source": [
    "#making cut out of each image for each source in each filter\n",
    "filts = ['f444w','f356w','f277w','f200w','f150w','f115w','f090w']\n",
    "for j in filts: \n",
    "    uri = 'jwst_glass_combine_dv1_'+j+'_30mas_microJy.fits'\n",
    "\n",
    "    for i in range(len(xmax)):\n",
    "        with fits.open(uri) as hdul: \n",
    "            if int(xmin[i])<0: # just in case source is right at edge of image to save notebook from giving up\n",
    "                xmin[i]==0\n",
    "            elif int(ymin[i])<0:\n",
    "                ymin[i]==0\n",
    "\n",
    "            cutout = hdul[0].section[int(ymin[i]):int(ymax[i]),int(xmin[i]):int(xmax[i])]\n",
    "\n",
    "            hdul.close()\n",
    "            hdu = fits.PrimaryHDU(cutout)\n",
    "            hdul = fits.HDUList([hdu]) #outputs postage stamp as fits file\n",
    "\n",
    "            hdul.writeto('galaxy_samples/detf277w_SED_selection/'+str(index[i])+'/cutout'+j+'.fits',overwrite=True)\n"
   ]
  },
  {
   "cell_type": "code",
   "execution_count": null,
   "metadata": {},
   "outputs": [],
   "source": [
    "indexcs = [] #making list of indexes to loop over\n",
    "\n",
    "file = open('dual_image_catalogues/SED_SELECTED_DET277W','r')\n",
    "#for _ in range(1):\n",
    " #   next(file)\n",
    "for line in file:\n",
    "    test = re.sub(\"\\s+\", \",\", line.strip())\n",
    "    tokens= test.split(',')\n",
    "   \n",
    "    indexcs.append(tokens[0])\n"
   ]
  },
  {
   "cell_type": "code",
   "execution_count": null,
   "metadata": {},
   "outputs": [],
   "source": [
    "for i in range(len(indexcs)): #kernel sometimes times out so it is useful to know the value it stopped at\n",
    "    if indexcs[i]== '15774':\n",
    "        print(i)\n",
    "print(len(indexcs))"
   ]
  },
  {
   "cell_type": "code",
   "execution_count": null,
   "metadata": {},
   "outputs": [],
   "source": [
    "for i in indexcs:\n",
    "    filenames = np.array(['galaxy_samples/detf277w_SED_selection/'+str(i)+'/'+f for f in os.listdir('galaxy_samples/detf277w_SED_selection/'+str(i)+'/') if isfile(join('galaxy_samples/detf277w_SED_selection/'+str(i)+'/',f))])\n",
    "#makes array of filenames based on directory created above for different indexes i.e reads in filenames for each index\n",
    "   \n",
    "    f090w=CCDData.read(filenames[6],unit = 'adu') # read in strange order for some reason - taken account of\n",
    "    f115w = CCDData.read(filenames[5],unit = 'adu')\n",
    "    f150w =CCDData.read(filenames[2],unit = 'adu')\n",
    "    f200w =CCDData.read(filenames[3],unit = 'adu')\n",
    "    f277w =CCDData.read(filenames[1],unit = 'adu')\n",
    "    f356w =CCDData.read(filenames[0],unit = 'adu')\n",
    "    f444w =CCDData.read(filenames[4],unit = 'adu')\n",
    "\n",
    "    fig = plt.figure()\n",
    "    axes = fig.subplots(nrows=1, ncols=7)\n",
    "    fig.set_figheight(100)\n",
    "    fig.set_figwidth(100)\n",
    "\n",
    "    #making postage stamps in a row for easier spotting of dropouts \n",
    "    #vmax acts as autocut in gaia, Normalize used to make images have sensible constrast\n",
    "    axes[0].imshow(f090w,cmap = 'Greys', norm = Normalize(vmin = np.percentile(f090w,1.),vmax=np.percentile(f090w,98)))\n",
    "    axes[1].imshow(f115w,cmap = 'Greys', norm = Normalize(vmin = np.percentile(f115w,1.),vmax=np.percentile(f115w,98)))\n",
    "    axes[2].imshow(f150w,cmap = 'Greys', norm = Normalize(vmin = np.percentile(f150w,1.),vmax=np.percentile(f150w,98)))\n",
    "    axes[3].imshow(f200w, cmap = 'Greys', norm = Normalize(vmin = np.percentile(f200w,1.),vmax=np.percentile(f200w,98)))\n",
    "    axes[4].imshow(f277w, cmap = 'Greys', norm = Normalize(vmin = np.percentile(f277w,1.),vmax=np.percentile(f277w,98)))\n",
    "    axes[5].imshow(f356w,cmap = 'Greys', norm = Normalize(vmin = np.percentile(f356w,1.),vmax=np.percentile(f356w,98)))\n",
    "    axes[6].imshow(f444w,cmap = 'Greys', norm = Normalize(vmin = np.percentile(f444w,1.),vmax=np.percentile(f444w,98)))\n",
    "\n",
    "    plt.savefig('galaxy_samples/detf277w_SED_selection/images/index'+i+'.png')\n",
    "#saves 7 postage stamps as one figure in new folder to make it easier to view"
   ]
  }
 ],
 "metadata": {
  "kernelspec": {
   "display_name": "Python 3 (ipykernel)",
   "language": "python",
   "name": "python3"
  },
  "language_info": {
   "codemirror_mode": {
    "name": "ipython",
    "version": 3
   },
   "file_extension": ".py",
   "mimetype": "text/x-python",
   "name": "python",
   "nbconvert_exporter": "python",
   "pygments_lexer": "ipython3",
   "version": "3.9.12"
  }
 },
 "nbformat": 4,
 "nbformat_minor": 4
}
